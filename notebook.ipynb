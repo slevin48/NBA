{
 "cells": [
  {
   "cell_type": "code",
   "execution_count": 17,
   "metadata": {},
   "outputs": [],
   "source": [
    "from nba_api.stats.static import teams\n",
    "from nba_api.live.nba.endpoints import scoreboard\n",
    "from utils import fetch_data, fetch_player_stats\n",
    "from nba_api.stats.endpoints import teamdetails, teamyearbyyearstats, commonteamroster, teamgamelog\n",
    "import pandas as pd\n",
    "import plotly.express as px\n",
    "from datetime import datetime\n",
    "import re"
   ]
  },
  {
   "cell_type": "code",
   "execution_count": 3,
   "metadata": {},
   "outputs": [],
   "source": [
    "team_id = 1610612738 # celtics https://www.nba.com/stats/team/1610612738"
   ]
  },
  {
   "cell_type": "code",
   "execution_count": 4,
   "metadata": {},
   "outputs": [
    {
     "name": "stderr",
     "output_type": "stream",
     "text": [
      "2024-10-13 17:58:47.818 \n",
      "  \u001b[33m\u001b[1mWarning:\u001b[0m to view this Streamlit app on a browser, run it with the following\n",
      "  command:\n",
      "\n",
      "    streamlit run C:\\Users\\ydebray\\AppData\\Roaming\\Python\\Python310\\site-packages\\ipykernel_launcher.py [ARGUMENTS]\n",
      "2024-10-13 17:58:47.818 No runtime found, using MemoryCacheStorageManager\n"
     ]
    },
    {
     "name": "stdout",
     "output_type": "stream",
     "text": [
      "       Team_ID     Game_ID     GAME_DATE      MATCHUP WL   W   L  W_PCT  MIN   \n",
      "0   1610612738  0022301186  APR 14, 2024  BOS vs. WAS  W  64  18  0.780  240  \\\n",
      "1   1610612738  0022301173  APR 12, 2024  BOS vs. CHA  W  63  18  0.778  240   \n",
      "2   1610612738  0022301167  APR 11, 2024  BOS vs. NYK  L  62  18  0.775  240   \n",
      "3   1610612738  0022301148  APR 09, 2024    BOS @ MIL  L  62  17  0.785  240   \n",
      "4   1610612738  0022301134  APR 07, 2024  BOS vs. POR  W  62  16  0.795  240   \n",
      "..         ...         ...           ...          ... ..  ..  ..    ...  ...   \n",
      "77  1610612738  0022300136  NOV 04, 2023    BOS @ BKN  W   5   0  1.000  240   \n",
      "78  1610612738  0022300118  NOV 01, 2023  BOS vs. IND  W   4   0  1.000  240   \n",
      "79  1610612738  0022300103  OCT 30, 2023    BOS @ WAS  W   3   0  1.000  240   \n",
      "80  1610612738  0022300080  OCT 27, 2023  BOS vs. MIA  W   2   0  1.000  240   \n",
      "81  1610612738  0022300065  OCT 25, 2023    BOS @ NYK  W   1   0  1.000  240   \n",
      "\n",
      "    FGM  ...  FT_PCT  OREB  DREB  REB  AST  STL  BLK  TOV  PF  PTS  \n",
      "0    51  ...   0.667    10    38   48   29   10   15   14  13  132  \n",
      "1    54  ...   0.692    16    37   53   34   12    1    6  20  131  \n",
      "2    40  ...   0.813    10    26   36   25    7   12   12  16  109  \n",
      "3    37  ...   0.000    12    26   38   27   11    4   12   8   91  \n",
      "4    49  ...   0.769     5    35   40   34   11    8   12  12  124  \n",
      "..  ...  ...     ...   ...   ...  ...  ...  ...  ...  ...  ..  ...  \n",
      "77   43  ...   0.852    10    40   50   22    4    6   11  17  124  \n",
      "78   54  ...   0.964    11    46   57   27    5    2   11  19  155  \n",
      "79   51  ...   0.714    15    36   51   31   11    6   17  21  126  \n",
      "80   45  ...   0.684    16    39   55   20    7    6   15  19  119  \n",
      "81   37  ...   0.846     7    39   46   18    6   11   13  22  108  \n",
      "\n",
      "[82 rows x 27 columns]\n"
     ]
    }
   ],
   "source": [
    "previous_season = datetime.now().year - 1\n",
    "game_log = fetch_data(teamgamelog.TeamGameLog, team_id=team_id, season=previous_season)\n",
    "print(game_log)"
   ]
  },
  {
   "cell_type": "code",
   "execution_count": 21,
   "metadata": {},
   "outputs": [
    {
     "name": "stdout",
     "output_type": "stream",
     "text": [
      "{'meta': {'version': 1, 'request': 'https://nba-prod-us-east-1-mediaops-stats.s3.amazonaws.com/NBA/liveData/scoreboard/todaysScoreboard_00.json', 'time': '2024-10-13 06:37:48.3748', 'code': 200}, 'scoreboard': {'gameDate': '2024-10-13', 'leagueId': '00', 'leagueName': 'National Basketball Association', 'games': [{'gameId': '0012400041', 'gameCode': '20241013/PORSAC', 'gameStatus': 2, 'gameStatusText': 'Q1 :18.4', 'period': 1, 'gameClock': 'PT00M18.40S', 'gameTimeUTC': '2024-10-13T22:00:00Z', 'gameEt': '2024-10-13T18:00:00-04:00', 'regulationPeriods': 4, 'ifNecessary': False, 'seriesGameNumber': '', 'gameLabel': None, 'gameSubLabel': None, 'seriesText': '', 'seriesConference': '', 'poRoundDesc': '', 'gameSubtype': '', 'homeTeam': {'teamId': 1610612758, 'teamName': 'Kings', 'teamCity': 'Sacramento', 'teamTricode': 'SAC', 'wins': 0, 'losses': 0, 'score': 27, 'seed': None, 'inBonus': '0', 'timeoutsRemaining': 5, 'periods': [{'period': 1, 'periodType': 'REGULAR', 'score': 27}, {'period': 2, 'periodType': 'REGULAR', 'score': 0}, {'period': 3, 'periodType': 'REGULAR', 'score': 0}, {'period': 4, 'periodType': 'REGULAR', 'score': 0}]}, 'awayTeam': {'teamId': 1610612757, 'teamName': 'Trail Blazers', 'teamCity': 'Portland', 'teamTricode': 'POR', 'wins': 0, 'losses': 0, 'score': 23, 'seed': None, 'inBonus': '0', 'timeoutsRemaining': 5, 'periods': [{'period': 1, 'periodType': 'REGULAR', 'score': 23}, {'period': 2, 'periodType': 'REGULAR', 'score': 0}, {'period': 3, 'periodType': 'REGULAR', 'score': 0}, {'period': 4, 'periodType': 'REGULAR', 'score': 0}]}, 'gameLeaders': {'homeLeaders': {'personId': 1627734, 'name': 'Domantas Sabonis', 'jerseyNum': '11', 'position': 'FC', 'teamTricode': 'SAC', 'playerSlug': 'domantas-sabonis', 'points': 6, 'rebounds': 3, 'assists': 2}, 'awayLeaders': {'personId': 1629028, 'name': 'Deandre Ayton', 'jerseyNum': '2', 'position': 'C', 'teamTricode': 'POR', 'playerSlug': 'deandre-ayton', 'points': 6, 'rebounds': 4, 'assists': 0}}, 'pbOdds': {'team': None, 'odds': 0.0, 'suspended': 0}}, {'gameId': '0012400040', 'gameCode': '20241013/MINNYK', 'gameStatus': 2, 'gameStatusText': 'Q1 :50.6', 'period': 1, 'gameClock': 'PT00M50.60S', 'gameTimeUTC': '2024-10-13T22:00:00Z', 'gameEt': '2024-10-13T18:00:00-04:00', 'regulationPeriods': 4, 'ifNecessary': False, 'seriesGameNumber': '', 'gameLabel': None, 'gameSubLabel': None, 'seriesText': '', 'seriesConference': '', 'poRoundDesc': '', 'gameSubtype': '', 'homeTeam': {'teamId': 1610612752, 'teamName': 'Knicks', 'teamCity': 'New York', 'teamTricode': 'NYK', 'wins': 0, 'losses': 0, 'score': 26, 'seed': None, 'inBonus': '1', 'timeoutsRemaining': 6, 'periods': [{'period': 1, 'periodType': 'REGULAR', 'score': 26}, {'period': 2, 'periodType': 'REGULAR', 'score': 0}, {'period': 3, 'periodType': 'REGULAR', 'score': 0}, {'period': 4, 'periodType': 'REGULAR', 'score': 0}]}, 'awayTeam': {'teamId': 1610612750, 'teamName': 'Timberwolves', 'teamCity': 'Minnesota', 'teamTricode': 'MIN', 'wins': 0, 'losses': 0, 'score': 19, 'seed': None, 'inBonus': '0', 'timeoutsRemaining': 6, 'periods': [{'period': 1, 'periodType': 'REGULAR', 'score': 19}, {'period': 2, 'periodType': 'REGULAR', 'score': 0}, {'period': 3, 'periodType': 'REGULAR', 'score': 0}, {'period': 4, 'periodType': 'REGULAR', 'score': 0}]}, 'gameLeaders': {'homeLeaders': {'personId': 1628384, 'name': 'OG Anunoby', 'jerseyNum': '8', 'position': 'F', 'teamTricode': 'NYK', 'playerSlug': 'og-anunoby', 'points': 14, 'rebounds': 5, 'assists': 1}, 'awayLeaders': {'personId': 1628978, 'name': 'Donte DiVincenzo', 'jerseyNum': '0', 'position': 'G', 'teamTricode': 'MIN', 'playerSlug': 'donte-divincenzo', 'points': 9, 'rebounds': 2, 'assists': 1}}, 'pbOdds': {'team': None, 'odds': 0.0, 'suspended': 0}}, {'gameId': '0012400039', 'gameCode': '20241013/NOPMIA', 'gameStatus': 3, 'gameStatusText': 'Final', 'period': 4, 'gameClock': '', 'gameTimeUTC': '2024-10-13T19:30:00Z', 'gameEt': '2024-10-13T15:30:00Z', 'regulationPeriods': 4, 'ifNecessary': False, 'seriesGameNumber': '', 'gameLabel': 'Preseason', 'gameSubLabel': '', 'seriesText': '', 'seriesConference': '', 'poRoundDesc': '', 'gameSubtype': '', 'homeTeam': {'teamId': 1610612748, 'teamName': 'Heat', 'teamCity': 'Miami', 'teamTricode': 'MIA', 'wins': 1, 'losses': 1, 'score': 101, 'seed': None, 'inBonus': None, 'timeoutsRemaining': 0, 'periods': [{'period': 1, 'periodType': 'REGULAR', 'score': 22}, {'period': 2, 'periodType': 'REGULAR', 'score': 34}, {'period': 3, 'periodType': 'REGULAR', 'score': 22}, {'period': 4, 'periodType': 'REGULAR', 'score': 23}]}, 'awayTeam': {'teamId': 1610612740, 'teamName': 'Pelicans', 'teamCity': 'New Orleans', 'teamTricode': 'NOP', 'wins': 1, 'losses': 1, 'score': 99, 'seed': None, 'inBonus': None, 'timeoutsRemaining': 0, 'periods': [{'period': 1, 'periodType': 'REGULAR', 'score': 20}, {'period': 2, 'periodType': 'REGULAR', 'score': 29}, {'period': 3, 'periodType': 'REGULAR', 'score': 18}, {'period': 4, 'periodType': 'REGULAR', 'score': 32}]}, 'gameLeaders': {'homeLeaders': {'personId': 1629639, 'name': 'Tyler Herro', 'jerseyNum': '14', 'position': 'G', 'teamTricode': 'MIA', 'playerSlug': None, 'points': 12, 'rebounds': 4, 'assists': 3}, 'awayLeaders': {'personId': 1627749, 'name': 'Dejounte Murray', 'jerseyNum': '5', 'position': 'G', 'teamTricode': 'NOP', 'playerSlug': None, 'points': 11, 'rebounds': 5, 'assists': 2}}, 'pbOdds': {'team': None, 'odds': 0.0, 'suspended': 0}}, {'gameId': '0012400042', 'gameCode': '20241013/TORBOS', 'gameStatus': 1, 'gameStatusText': '7:00 pm ET', 'period': 0, 'gameClock': '', 'gameTimeUTC': '2024-10-13T23:00:00Z', 'gameEt': '2024-10-13T19:00:00Z', 'regulationPeriods': 4, 'ifNecessary': False, 'seriesGameNumber': '', 'gameLabel': 'Preseason', 'gameSubLabel': '', 'seriesText': '', 'seriesConference': '', 'poRoundDesc': '', 'gameSubtype': '', 'homeTeam': {'teamId': 1610612738, 'teamName': 'Celtics', 'teamCity': 'Boston', 'teamTricode': 'BOS', 'wins': 0, 'losses': 0, 'score': 0, 'seed': None, 'inBonus': None, 'timeoutsRemaining': 0, 'periods': [{'period': 1, 'periodType': 'REGULAR', 'score': 0}, {'period': 2, 'periodType': 'REGULAR', 'score': 0}, {'period': 3, 'periodType': 'REGULAR', 'score': 0}, {'period': 4, 'periodType': 'REGULAR', 'score': 0}]}, 'awayTeam': {'teamId': 1610612761, 'teamName': 'Raptors', 'teamCity': 'Toronto', 'teamTricode': 'TOR', 'wins': 0, 'losses': 0, 'score': 0, 'seed': None, 'inBonus': None, 'timeoutsRemaining': 0, 'periods': [{'period': 1, 'periodType': 'REGULAR', 'score': 0}, {'period': 2, 'periodType': 'REGULAR', 'score': 0}, {'period': 3, 'periodType': 'REGULAR', 'score': 0}, {'period': 4, 'periodType': 'REGULAR', 'score': 0}]}, 'gameLeaders': {'homeLeaders': {'personId': 0, 'name': '', 'jerseyNum': '', 'position': '', 'teamTricode': 'BOS', 'playerSlug': None, 'points': 0, 'rebounds': 0, 'assists': 0}, 'awayLeaders': {'personId': 0, 'name': '', 'jerseyNum': '', 'position': '', 'teamTricode': 'TOR', 'playerSlug': None, 'points': 0, 'rebounds': 0, 'assists': 0}}, 'pbOdds': {'team': None, 'odds': 0.0, 'suspended': 0}}, {'gameId': '0012400043', 'gameCode': '20241013/PHXDEN', 'gameStatus': 1, 'gameStatusText': '8:30 pm ET', 'period': 0, 'gameClock': '', 'gameTimeUTC': '2024-10-14T00:30:00Z', 'gameEt': '2024-10-13T20:30:00Z', 'regulationPeriods': 4, 'ifNecessary': False, 'seriesGameNumber': '', 'gameLabel': 'Preseason', 'gameSubLabel': '', 'seriesText': '', 'seriesConference': '', 'poRoundDesc': '', 'gameSubtype': '', 'homeTeam': {'teamId': 1610612743, 'teamName': 'Nuggets', 'teamCity': 'Denver', 'teamTricode': 'DEN', 'wins': 0, 'losses': 0, 'score': 0, 'seed': None, 'inBonus': None, 'timeoutsRemaining': 0, 'periods': [{'period': 1, 'periodType': 'REGULAR', 'score': 0}, {'period': 2, 'periodType': 'REGULAR', 'score': 0}, {'period': 3, 'periodType': 'REGULAR', 'score': 0}, {'period': 4, 'periodType': 'REGULAR', 'score': 0}]}, 'awayTeam': {'teamId': 1610612756, 'teamName': 'Suns', 'teamCity': 'Phoenix', 'teamTricode': 'PHX', 'wins': 0, 'losses': 0, 'score': 0, 'seed': None, 'inBonus': None, 'timeoutsRemaining': 0, 'periods': [{'period': 1, 'periodType': 'REGULAR', 'score': 0}, {'period': 2, 'periodType': 'REGULAR', 'score': 0}, {'period': 3, 'periodType': 'REGULAR', 'score': 0}, {'period': 4, 'periodType': 'REGULAR', 'score': 0}]}, 'gameLeaders': {'homeLeaders': {'personId': 0, 'name': '', 'jerseyNum': '', 'position': '', 'teamTricode': 'DEN', 'playerSlug': None, 'points': 0, 'rebounds': 0, 'assists': 0}, 'awayLeaders': {'personId': 0, 'name': '', 'jerseyNum': '', 'position': '', 'teamTricode': 'PHX', 'playerSlug': None, 'points': 0, 'rebounds': 0, 'assists': 0}}, 'pbOdds': {'team': None, 'odds': 0.0, 'suspended': 0}}, {'gameId': '0012400044', 'gameCode': '20241013/DETGSW', 'gameStatus': 1, 'gameStatusText': '8:30 pm ET', 'period': 0, 'gameClock': '', 'gameTimeUTC': '2024-10-14T00:30:00Z', 'gameEt': '2024-10-13T20:30:00Z', 'regulationPeriods': 4, 'ifNecessary': False, 'seriesGameNumber': '', 'gameLabel': 'Preseason', 'gameSubLabel': '', 'seriesText': '', 'seriesConference': '', 'poRoundDesc': '', 'gameSubtype': '', 'homeTeam': {'teamId': 1610612744, 'teamName': 'Warriors', 'teamCity': 'Golden State', 'teamTricode': 'GSW', 'wins': 0, 'losses': 0, 'score': 0, 'seed': None, 'inBonus': None, 'timeoutsRemaining': 0, 'periods': [{'period': 1, 'periodType': 'REGULAR', 'score': 0}, {'period': 2, 'periodType': 'REGULAR', 'score': 0}, {'period': 3, 'periodType': 'REGULAR', 'score': 0}, {'period': 4, 'periodType': 'REGULAR', 'score': 0}]}, 'awayTeam': {'teamId': 1610612765, 'teamName': 'Pistons', 'teamCity': 'Detroit', 'teamTricode': 'DET', 'wins': 0, 'losses': 0, 'score': 0, 'seed': None, 'inBonus': None, 'timeoutsRemaining': 0, 'periods': [{'period': 1, 'periodType': 'REGULAR', 'score': 0}, {'period': 2, 'periodType': 'REGULAR', 'score': 0}, {'period': 3, 'periodType': 'REGULAR', 'score': 0}, {'period': 4, 'periodType': 'REGULAR', 'score': 0}]}, 'gameLeaders': {'homeLeaders': {'personId': 0, 'name': '', 'jerseyNum': '', 'position': '', 'teamTricode': 'GSW', 'playerSlug': None, 'points': 0, 'rebounds': 0, 'assists': 0}, 'awayLeaders': {'personId': 0, 'name': '', 'jerseyNum': '', 'position': '', 'teamTricode': 'DET', 'playerSlug': None, 'points': 0, 'rebounds': 0, 'assists': 0}}, 'pbOdds': {'team': None, 'odds': 0.0, 'suspended': 0}}]}}\n"
     ]
    }
   ],
   "source": [
    "games = scoreboard.ScoreBoard()\n",
    "print(games.get_dict())\n"
   ]
  }
 ],
 "metadata": {
  "kernelspec": {
   "display_name": "Python 3",
   "language": "python",
   "name": "python3"
  },
  "language_info": {
   "codemirror_mode": {
    "name": "ipython",
    "version": 3
   },
   "file_extension": ".py",
   "mimetype": "text/x-python",
   "name": "python",
   "nbconvert_exporter": "python",
   "pygments_lexer": "ipython3",
   "version": "3.10.10"
  }
 },
 "nbformat": 4,
 "nbformat_minor": 2
}
